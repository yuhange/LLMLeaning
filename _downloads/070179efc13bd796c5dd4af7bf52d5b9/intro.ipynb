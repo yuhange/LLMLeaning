{
  "cells": [
    {
      "cell_type": "markdown",
      "metadata": {
        "id": "view-in-github",
        "colab_type": "text"
      },
      "source": [
        "<a href=\"https://colab.research.google.com/github/yuhange/LLMLeaning/blob/main/_downloads/070179efc13bd796c5dd4af7bf52d5b9/intro.ipynb\" target=\"_parent\"><img src=\"https://colab.research.google.com/assets/colab-badge.svg\" alt=\"Open In Colab\"/></a>"
      ]
    },
    {
      "cell_type": "code",
      "execution_count": null,
      "metadata": {
        "id": "PY-CNJNxaCAI"
      },
      "outputs": [],
      "source": [
        "# For tips on running notebooks in Google Colab, see\n",
        "# https://pytorch.org/tutorials/beginner/colab\n",
        "%matplotlib inline"
      ]
    },
    {
      "cell_type": "markdown",
      "metadata": {
        "id": "0ek1yBs7aCAL"
      },
      "source": [
        "**Learn the Basics** \\|\\| [Quickstart](quickstart_tutorial.html) \\|\\|\n",
        "[Tensors](tensorqs_tutorial.html) \\|\\| [Datasets &\n",
        "DataLoaders](data_tutorial.html) \\|\\|\n",
        "[Transforms](transforms_tutorial.html) \\|\\| [Build\n",
        "Model](buildmodel_tutorial.html) \\|\\|\n",
        "[Autograd](autogradqs_tutorial.html) \\|\\|\n",
        "[Optimization](optimization_tutorial.html) \\|\\| [Save & Load\n",
        "Model](saveloadrun_tutorial.html)\n",
        "\n",
        "Learn the Basics\n",
        "================\n",
        "\n",
        "Authors: [Suraj Subramanian](https://github.com/subramen), [Seth\n",
        "Juarez](https://github.com/sethjuarez/), [Cassie\n",
        "Breviu](https://github.com/cassiebreviu/), [Dmitry\n",
        "Soshnikov](https://soshnikov.com/), [Ari\n",
        "Bornstein](https://github.com/aribornstein/)\n",
        "\n",
        "Most machine learning workflows involve working with data, creating\n",
        "models, optimizing model parameters, and saving the trained models. This\n",
        "tutorial introduces you to a complete ML workflow implemented in\n",
        "PyTorch, with links to learn more about each of these concepts.\n",
        "\n",
        "We\\'ll use the FashionMNIST dataset to train a neural network that\n",
        "predicts if an input image belongs to one of the following classes:\n",
        "T-shirt/top, Trouser, Pullover, Dress, Coat, Sandal, Shirt, Sneaker,\n",
        "Bag, or Ankle boot.\n",
        "\n",
        "[This tutorial assumes a basic familiarity with Python and Deep Learning\n",
        "concepts.]{.title-ref}\n",
        "\n",
        "Running the Tutorial Code\n",
        "-------------------------\n",
        "\n",
        "You can run this tutorial in a couple of ways:\n",
        "\n",
        "-   **In the cloud**: This is the easiest way to get started! Each\n",
        "    section has a \\\"Run in Microsoft Learn\\\" and \\\"Run in Google Colab\\\"\n",
        "    link at the top, which opens an integrated notebook in Microsoft\n",
        "    Learn or Google Colab, respectively, with the code in a fully-hosted\n",
        "    environment.\n",
        "-   **Locally**: This option requires you to setup PyTorch and\n",
        "    TorchVision first on your local machine ([installation\n",
        "    instructions](https://pytorch.org/get-started/locally/)). Download\n",
        "    the notebook or copy the code into your favorite IDE.\n",
        "\n",
        "How to Use this Guide\n",
        "---------------------\n",
        "\n",
        "If you\\'re familiar with other deep learning frameworks, check out the\n",
        "[0. Quickstart](quickstart_tutorial.html) first to quickly familiarize\n",
        "yourself with PyTorch\\'s API.\n",
        "\n",
        "If you\\'re new to deep learning frameworks, head right into the first\n",
        "section of our step-by-step guide: [1. Tensors](tensor_tutorial.html).\n",
        "\n",
        "::: {.toctree maxdepth=\"2\" hidden=\"\"}\n",
        "quickstart\\_tutorial tensorqs\\_tutorial data\\_tutorial\n",
        "transforms\\_tutorial buildmodel\\_tutorial autogradqs\\_tutorial\n",
        "optimization\\_tutorial saveloadrun\\_tutorial\n",
        ":::\n"
      ]
    },
    {
      "cell_type": "code",
      "source": [
        "import torch\n",
        "import numpy as np\n",
        "\n",
        "data = [[2,3], [1,4]]\n",
        "x_data = torch.tensor(data)\n",
        "\n",
        "np_array = np.array(data)\n",
        "y_data = torch.from_numpy(np_array)\n",
        "\n",
        "print(y_data)\n",
        "\n",
        "x_ones = torch.ones_like(x_data) # 生成一个全是1 的矩阵，数据类型等于x_data\n",
        "print(x_ones)\n",
        "\n",
        "y_rand = torch.rand_like(x_data, dtype=torch.float) # 生成一个随机矩阵\n",
        "print(y_rand)"
      ],
      "metadata": {
        "colab": {
          "base_uri": "https://localhost:8080/"
        },
        "id": "-XVUbpX1aySI",
        "outputId": "f5706bfc-ae2b-4d5f-ea74-b44b1df3d522"
      },
      "execution_count": 6,
      "outputs": [
        {
          "output_type": "stream",
          "name": "stdout",
          "text": [
            "tensor([[2, 3],\n",
            "        [1, 4]])\n",
            "tensor([[1, 1],\n",
            "        [1, 1]])\n",
            "tensor([[0.0836, 0.2958],\n",
            "        [0.0870, 0.3185]])\n"
          ]
        }
      ]
    },
    {
      "cell_type": "code",
      "source": [
        "shape = (2,3,)\n",
        "rand_tensor = torch.rand(shape) # 生成一个随机矩阵\n",
        "ones_tensor = torch.ones(shape, dtype=torch.int) # 生成一个全是1 的矩阵，默认数据类型是float32。除非指定是torch.int\n",
        "zeros_tensor = torch.zeros(shape, dtype=torch.int) # 生成一个全是0的矩阵\n",
        "print(rand_tensor)\n",
        "print(ones_tensor)\n",
        "print(zeros_tensor)"
      ],
      "metadata": {
        "colab": {
          "base_uri": "https://localhost:8080/"
        },
        "id": "E8MOFa0bmUPr",
        "outputId": "7ed878a5-a546-4822-af98-c43e99332d90"
      },
      "execution_count": 10,
      "outputs": [
        {
          "output_type": "stream",
          "name": "stdout",
          "text": [
            "tensor([[0.6869, 0.8472, 0.6251],\n",
            "        [0.1319, 0.2213, 0.7619]])\n",
            "tensor([[1, 1, 1],\n",
            "        [1, 1, 1]], dtype=torch.int32)\n",
            "tensor([[0, 0, 0],\n",
            "        [0, 0, 0]], dtype=torch.int32)\n"
          ]
        }
      ]
    },
    {
      "cell_type": "code",
      "source": [
        "tensor_rand = torch.rand((3,4))\n",
        "print(tensor_rand.shape)\n",
        "print(tensor_rand.dtype)\n",
        "print(tensor_rand.device)\n",
        "# Check if CUDA (GPU) is available\n",
        "device = torch.device('cuda' if torch.cuda.is_available() else 'cpu')\n",
        "\n",
        "\n",
        "# Move your tensors to the device\n",
        "tensor_rand = tensor_rand.to(device)\n",
        "print(tensor_rand.device)\n",
        "\n",
        "# if torch.accelerator.is_available():\n",
        "#   tensor_rand = tensor_rand.to(torch.accelerator.current_accelerator())"
      ],
      "metadata": {
        "colab": {
          "base_uri": "https://localhost:8080/"
        },
        "id": "5javyFiymmlO",
        "outputId": "b4987356-f58f-4752-801a-65239466dd97"
      },
      "execution_count": 18,
      "outputs": [
        {
          "output_type": "stream",
          "name": "stdout",
          "text": [
            "torch.Size([3, 4])\n",
            "torch.float32\n",
            "cpu\n",
            "cpu\n"
          ]
        }
      ]
    },
    {
      "cell_type": "code",
      "source": [
        "tensor = torch.ones((4,4))\n",
        "print(tensor[0]) # first row\n",
        "print(tensor[1])\n",
        "print(tensor[:, 0]) # first column\n",
        "print(tensor[..., -1]) # last column\n",
        "\n",
        "tensor[:,1] = 0\n",
        "print(tensor)\n",
        "\n",
        "tensor = torch.cat([tensor, tensor, tensor], dim = 1)\n",
        "print(tensor)\n",
        "\n",
        "print(\"-----\")\n",
        "\n",
        "# tensor = torch.cat([tensor, tensor, tensor], dim = 0)\n",
        "# print(tensor)\n",
        "\n",
        "print(\"------\")\n",
        "\n",
        "### y1, y2, y3 should have the same value\n",
        "y1 = tensor @ tensor.T\n",
        "print(y1)\n",
        "y2 = tensor.matmul(tensor.T)\n",
        "print(y2)\n",
        "y3 = torch.rand((4,4))\n",
        "torch.matmul(tensor, tensor.T, out=y3)\n",
        "print(y3)"
      ],
      "metadata": {
        "colab": {
          "base_uri": "https://localhost:8080/"
        },
        "id": "NmIw3ASmnh1T",
        "outputId": "4e2f97b1-0316-409e-8b47-ca9d7acfc69e"
      },
      "execution_count": 39,
      "outputs": [
        {
          "output_type": "stream",
          "name": "stdout",
          "text": [
            "tensor([1., 1., 1., 1.])\n",
            "tensor([1., 1., 1., 1.])\n",
            "tensor([1., 1., 1., 1.])\n",
            "tensor([1., 1., 1., 1.])\n",
            "tensor([[1., 0., 1., 1.],\n",
            "        [1., 0., 1., 1.],\n",
            "        [1., 0., 1., 1.],\n",
            "        [1., 0., 1., 1.]])\n",
            "tensor([[1., 0., 1., 1., 1., 0., 1., 1., 1., 0., 1., 1.],\n",
            "        [1., 0., 1., 1., 1., 0., 1., 1., 1., 0., 1., 1.],\n",
            "        [1., 0., 1., 1., 1., 0., 1., 1., 1., 0., 1., 1.],\n",
            "        [1., 0., 1., 1., 1., 0., 1., 1., 1., 0., 1., 1.]])\n",
            "-----\n",
            "------\n",
            "tensor([[9., 9., 9., 9.],\n",
            "        [9., 9., 9., 9.],\n",
            "        [9., 9., 9., 9.],\n",
            "        [9., 9., 9., 9.]])\n",
            "tensor([[9., 9., 9., 9.],\n",
            "        [9., 9., 9., 9.],\n",
            "        [9., 9., 9., 9.],\n",
            "        [9., 9., 9., 9.]])\n",
            "tensor([[9., 9., 9., 9.],\n",
            "        [9., 9., 9., 9.],\n",
            "        [9., 9., 9., 9.],\n",
            "        [9., 9., 9., 9.]])\n"
          ]
        }
      ]
    },
    {
      "cell_type": "code",
      "source": [
        "a = torch.tensor([[1, 2],\n",
        "                 [3, 4]])\n",
        "print(a @ a)\n",
        "print(a * a)"
      ],
      "metadata": {
        "id": "gOxd0NaprpUD",
        "outputId": "52a49bbc-659a-4516-ca74-2e239c6b8368",
        "colab": {
          "base_uri": "https://localhost:8080/"
        }
      },
      "execution_count": 32,
      "outputs": [
        {
          "output_type": "stream",
          "name": "stdout",
          "text": [
            "tensor([[ 7, 10],\n",
            "        [15, 22]])\n",
            "tensor([[ 1,  4],\n",
            "        [ 9, 16]])\n"
          ]
        }
      ]
    },
    {
      "cell_type": "code",
      "source": [
        "tensor = torch.tensor([[1,2],[2,3],[3,4],[4,5]])\n",
        "agg = tensor.sum() # sum all elements\n",
        "print(agg)\n",
        "\n",
        "agg_colum = tensor.sum(dim=0) # dim = 0 means colum wise\n",
        "print(agg_colum)\n",
        "\n",
        "agg_row = tensor.sum(dim=1) # dim = 1 means row wise\n",
        "print(agg_row)\n",
        "\n",
        "tensor_add_5 = tensor.add(5)\n",
        "print(tensor_add_5)\n",
        "print(tensor)\n",
        "tensor.add_(5)\n",
        "print(tensor)"
      ],
      "metadata": {
        "id": "UM5MGmp6sMFT",
        "outputId": "595e3c2d-d38f-4f1c-8434-31d4e46150e2",
        "colab": {
          "base_uri": "https://localhost:8080/"
        }
      },
      "execution_count": 42,
      "outputs": [
        {
          "output_type": "stream",
          "name": "stdout",
          "text": [
            "tensor(24)\n",
            "tensor([10, 14])\n",
            "tensor([3, 5, 7, 9])\n",
            "tensor([[ 6,  7],\n",
            "        [ 7,  8],\n",
            "        [ 8,  9],\n",
            "        [ 9, 10]])\n",
            "tensor([[1, 2],\n",
            "        [2, 3],\n",
            "        [3, 4],\n",
            "        [4, 5]])\n",
            "tensor([[ 6,  7],\n",
            "        [ 7,  8],\n",
            "        [ 8,  9],\n",
            "        [ 9, 10]])\n"
          ]
        }
      ]
    }
  ],
  "metadata": {
    "kernelspec": {
      "display_name": "Python 3",
      "language": "python",
      "name": "python3"
    },
    "language_info": {
      "codemirror_mode": {
        "name": "ipython",
        "version": 3
      },
      "file_extension": ".py",
      "mimetype": "text/x-python",
      "name": "python",
      "nbconvert_exporter": "python",
      "pygments_lexer": "ipython3",
      "version": "3.10.12"
    },
    "colab": {
      "provenance": [],
      "include_colab_link": true
    }
  },
  "nbformat": 4,
  "nbformat_minor": 0
}