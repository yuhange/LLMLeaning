{
  "nbformat": 4,
  "nbformat_minor": 0,
  "metadata": {
    "colab": {
      "provenance": [],
      "name": "neural-network.ipynb",
      "authorship_tag": "ABX9TyPuaUxoy6xDOuwdl9MkBeJw",
      "include_colab_link": true
    },
    "kernelspec": {
      "name": "python3",
      "display_name": "Python 3"
    },
    "language_info": {
      "name": "python"
    }
  },
  "cells": [
    {
      "cell_type": "markdown",
      "metadata": {
        "id": "view-in-github",
        "colab_type": "text"
      },
      "source": [
        "<a href=\"https://colab.research.google.com/github/yuhange/LLMLeaning/blob/main/neural_network.ipynb\" target=\"_parent\"><img src=\"https://colab.research.google.com/assets/colab-badge.svg\" alt=\"Open In Colab\"/></a>"
      ]
    },
    {
      "cell_type": "markdown",
      "source": [
        "# 用神经网络实现一个简单的加法器\n",
        "http://neuralnetworksanddeeplearning.com/chap1.html"
      ],
      "metadata": {
        "id": "1SfpGw2hS8OW"
      }
    },
    {
      "cell_type": "code",
      "execution_count": null,
      "metadata": {
        "colab": {
          "base_uri": "https://localhost:8080/"
        },
        "id": "gZ5ewVCJQSRT",
        "outputId": "c9f9046b-7c1e-4c1f-b1c9-d1f3060f9b99"
      },
      "outputs": [
        {
          "output_type": "stream",
          "name": "stdout",
          "text": [
            "0 0 => 0, 0\n",
            "0 1 => 1, 0\n",
            "1 0 => 1, 0\n",
            "1 1 => 0, 1\n"
          ]
        }
      ],
      "source": [
        "import numpy as np\n",
        "\n",
        "class Perceptron:\n",
        "  def __init__(self, weights, bias):\n",
        "    self.weights = weights\n",
        "    self.bias = bias\n",
        "\n",
        "  def forward(self, inputs):\n",
        "    sum = np.dot(inputs, self.weights) + self.bias\n",
        "    return 1 if sum > 0 else 0\n",
        "\n",
        "class Adder:\n",
        "  def __init__(self):\n",
        "    self.perceptron1 = Perceptron([-2, -2], 3)\n",
        "    self.perceptron2 = Perceptron([-2, -2], 3)\n",
        "    self.perceptron3 = Perceptron([-2, -2], 3)\n",
        "    # self.perceptron4 = Perceptron([-2, -2], 3)\n",
        "    self.perceptron4 = Perceptron([-4], 3) # 可以把y1 和 y1的那个与非门换成权重是-4的\n",
        "    self.perceptron5 = Perceptron([-2, -2], 3)\n",
        "\n",
        "  def compute(self, x1, x2):\n",
        "    y1 = self.perceptron1.forward([x1, x2])\n",
        "\n",
        "    z1 = self.perceptron2.forward([x1, y1])\n",
        "\n",
        "    z2 = self.perceptron3.forward([x2, y1])\n",
        "\n",
        "    sum = self.perceptron5.forward([z1, z2])\n",
        "\n",
        "    # carry_bit = self.perceptron4.forward([y1, y1])\n",
        "    carry_bit = self.perceptron4.forward([y1])\n",
        "\n",
        "    return sum, carry_bit\n",
        "\n",
        "adder = Adder()\n",
        "test_inputs = [(0,0), (0,1),(1,0), (1,1)]\n",
        "\n",
        "for x1, x2 in test_inputs:\n",
        "  sum, carry_bit = adder.compute(x1, x2)\n",
        "  print(f\"{x1} {x2} => {sum}, {carry_bit}\")"
      ]
    }
  ]
}