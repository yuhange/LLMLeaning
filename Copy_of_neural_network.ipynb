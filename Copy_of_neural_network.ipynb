{
  "nbformat": 4,
  "nbformat_minor": 0,
  "metadata": {
    "colab": {
      "provenance": [],
      "authorship_tag": "ABX9TyMYrBwhTk6SU+pcSJBgUIWo",
      "include_colab_link": true
    },
    "kernelspec": {
      "name": "python3",
      "display_name": "Python 3"
    },
    "language_info": {
      "name": "python"
    }
  },
  "cells": [
    {
      "cell_type": "markdown",
      "metadata": {
        "id": "view-in-github",
        "colab_type": "text"
      },
      "source": [
        "<a href=\"https://colab.research.google.com/github/yuhange/LLMLeaning/blob/main/Copy_of_neural_network.ipynb\" target=\"_parent\"><img src=\"https://colab.research.google.com/assets/colab-badge.svg\" alt=\"Open In Colab\"/></a>"
      ]
    },
    {
      "cell_type": "code",
      "execution_count": null,
      "metadata": {
        "colab": {
          "base_uri": "https://localhost:8080/"
        },
        "id": "gZ5ewVCJQSRT",
        "outputId": "c9f9046b-7c1e-4c1f-b1c9-d1f3060f9b99"
      },
      "outputs": [
        {
          "output_type": "stream",
          "name": "stdout",
          "text": [
            "0 0 => 0, 0\n",
            "0 1 => 1, 0\n",
            "1 0 => 1, 0\n",
            "1 1 => 0, 1\n"
          ]
        }
      ],
      "source": [
        "import numpy as np\n",
        "\n",
        "class Perceptron:\n",
        "  def __init__(self, weights, bias):\n",
        "    self.weights = weights\n",
        "    self.bias = bias\n",
        "\n",
        "  def forward(self, inputs):\n",
        "    sum = np.dot(inputs, self.weights) + self.bias\n",
        "    return 1 if sum > 0 else 0\n",
        "\n",
        "class Adder:\n",
        "  def __init__(self):\n",
        "    self.perceptron1 = Perceptron([-2, -2], 3)\n",
        "    self.perceptron2 = Perceptron([-2, -2], 3)\n",
        "    self.perceptron3 = Perceptron([-2, -2], 3)\n",
        "    # self.perceptron4 = Perceptron([-2, -2], 3)\n",
        "    self.perceptron4 = Perceptron([-4], 3) # 可以把y1 和 y1的那个与非门换成权重是-4的\n",
        "    self.perceptron5 = Perceptron([-2, -2], 3)\n",
        "\n",
        "  def compute(self, x1, x2):\n",
        "    y1 = self.perceptron1.forward([x1, x2])\n",
        "\n",
        "    z1 = self.perceptron2.forward([x1, y1])\n",
        "\n",
        "    z2 = self.perceptron3.forward([x2, y1])\n",
        "\n",
        "    sum = self.perceptron5.forward([z1, z2])\n",
        "\n",
        "    # carry_bit = self.perceptron4.forward([y1, y1])\n",
        "    carry_bit = self.perceptron4.forward([y1])\n",
        "\n",
        "    return sum, carry_bit\n",
        "\n",
        "adder = Adder()\n",
        "test_inputs = [(0,0), (0,1),(1,0), (1,1)]\n",
        "\n",
        "for x1, x2 in test_inputs:\n",
        "  sum, carry_bit = adder.compute(x1, x2)\n",
        "  print(f\"{x1} {x2} => {sum}, {carry_bit}\")"
      ]
    },
    {
      "cell_type": "code",
      "source": [
        "# implement sigmoid function\n",
        "# np.exp() is much faster than using regular Python's math.exp() for arrays\n",
        "# It can handle both single values and arrays\n",
        "# It's vectorized, meaning it automatically applies to each element in an array\n",
        "# In the sigmoid function, it helps create the smooth S-shaped curve\n",
        "import numpy as np\n",
        "import math\n",
        "\n",
        "def sigmoid_basic_math(x):\n",
        "    # this function will throw error when x < -1000\\\n",
        "  return 1 / (1 + math.exp(-x))\n",
        "\n",
        "def sigmoid_basic_numpy_unsafe(x):\n",
        "  # np.exp(-x) is NumPy's implementation of e^(-x)\n",
        "  # this function will throw error when x < -1000\n",
        "  return 1 / (1+ np.exp(-x))\n",
        "\n",
        "def sigmoid_numpy_safe(x):\n",
        "  if isinstance(x, np.ndarray):\n",
        "    x = np.clip(x, -500, 500)\n",
        "    return 1 / (1+ np.exp(-x))\n",
        "  else:\n",
        "    if x > 0:\n",
        "      return 1 / (1+ np.exp(-x))\n",
        "    else:\n",
        "      return np.exp(x) / (1 + np.exp(x))\n",
        "\n",
        "\n",
        "# sigmoid_basic_math(0)\n",
        "sigmoid_numpy_safe(-1000)\n",
        "sigmoid_numpy_safe(0.011)-sigmoid_numpy_safe(0.012)\n",
        "sigmoid_numpy_safe(2)-sigmoid_numpy_safe(3)"
      ],
      "metadata": {
        "id": "f-Xh0PkZKfjt",
        "outputId": "b7a0ed62-916a-4990-fa8c-18ad7d00ab2c",
        "colab": {
          "base_uri": "https://localhost:8080/"
        }
      },
      "execution_count": null,
      "outputs": [
        {
          "output_type": "execute_result",
          "data": {
            "text/plain": [
              "-0.07177704884455105"
            ]
          },
          "metadata": {},
          "execution_count": 18
        }
      ]
    },
    {
      "cell_type": "code",
      "source": [],
      "metadata": {
        "id": "cNK173yUCanT"
      },
      "execution_count": null,
      "outputs": []
    },
    {
      "cell_type": "code",
      "source": [
        "import numpy as np\n",
        "\n",
        "class Sigmoid:\n",
        "    @staticmethod\n",
        "    def forward(x):\n",
        "        return 1 / (1 + np.exp(-x))\n",
        "\n",
        "    @staticmethod\n",
        "    def derivative(x):\n",
        "        s = Sigmoid.forward(x)\n",
        "        return s * (1 - s)\n",
        "\n",
        "# Test\n",
        "sigmoid = Sigmoid()\n",
        "x = np.array([-2, -1, 0, 1, 2])\n",
        "print(\"Sigmoid:\", sigmoid.forward(x))\n",
        "print(\"Derivative:\", sigmoid.derivative(x))\n"
      ],
      "metadata": {
        "colab": {
          "base_uri": "https://localhost:8080/"
        },
        "id": "T7tWcAyC6mQj",
        "outputId": "1a0614ef-bef2-4352-8419-cde4da85f290"
      },
      "execution_count": null,
      "outputs": [
        {
          "output_type": "stream",
          "name": "stdout",
          "text": [
            "Sigmoid: [0.11920292 0.26894142 0.5        0.73105858 0.88079708]\n",
            "Derivative: [0.10499359 0.19661193 0.25       0.19661193 0.10499359]\n"
          ]
        }
      ]
    },
    {
      "cell_type": "code",
      "source": [
        "# quadratic cost function\n",
        "# mean squre error\n",
        "import numpy as np\n",
        "\n",
        "def quadratic_cost(a, y):\n",
        "  return 0.5 * np.sum((a-y)**2)\n",
        "\n",
        "actual = np.array([0.001, 0.002])\n",
        "expectation = np.array([0.003, 0.004])\n",
        "\n",
        "quadratic_cost(actual, expectation)"
      ],
      "metadata": {
        "colab": {
          "base_uri": "https://localhost:8080/"
        },
        "id": "6Pn9184YCcbs",
        "outputId": "d270cd28-73f0-40bf-8b7b-613c796e10a4"
      },
      "execution_count": null,
      "outputs": [
        {
          "output_type": "execute_result",
          "data": {
            "text/plain": [
              "4e-06"
            ]
          },
          "metadata": {},
          "execution_count": 21
        }
      ]
    },
    {
      "cell_type": "code",
      "source": [],
      "metadata": {
        "id": "h8ceMAVICp-W"
      },
      "execution_count": null,
      "outputs": []
    }
  ]
}